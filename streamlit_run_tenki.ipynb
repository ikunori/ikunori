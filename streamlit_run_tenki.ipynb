{
  "cells": [
    {
      "cell_type": "code",
      "execution_count": null,
      "metadata": {
        "id": "CiYnykH7Ieer"
      },
      "outputs": [],
      "source": [
        "!pip install streamlit"
      ]
    },
    {
      "cell_type": "code",
      "execution_count": 2,
      "metadata": {
        "colab": {
          "base_uri": "https://localhost:8080/"
        },
        "id": "LkamDY6EIgy9",
        "outputId": "6fd0c344-4af0-48b3-8d3b-a32a0ec88352"
      },
      "outputs": [
        {
          "output_type": "stream",
          "name": "stdout",
          "text": [
            "Writing app.py\n"
          ]
        }
      ],
      "source": [
        "%%writefile app.py\n",
        "import streamlit as st\n",
        "import pandas as pd\n",
        "import requests\n",
        "import re\n",
        "from datetime import datetime\n",
        "import pytz\n",
        "import pandas as pd\n",
        "import json\n",
        "from pandas import json_normalize\n",
        "city_code = \"130010\" #東京\n",
        "api_url = \"https://weather.tsukumijima.net/api/forecast/city/\"\n",
        "st.title('お出かけ確認')\n",
        "@st.cache\n",
        "def get_data(city_code):\n",
        "    df = pd.DataFrame()\n",
        "    url = api_url + city_code\n",
        "    try:\n",
        "        response = requests.get(url)\n",
        "        response.raise_for_status() \n",
        "    except requests.exceptions.RequestException as e:\n",
        "           print(\"Error:{}\".format(e))\n",
        "    else:\n",
        "        weather_json = response.json()\n",
        "        now_hour = datetime.now(pytz.timezone('Asia/Tokyo')).hour\n",
        "        if 0 <= now_hour and now_hour < 6:\n",
        "            cor = weather_json['forecasts'][0]['chanceOfRain']['T00_06']\n",
        "        elif 6 <= now_hour and now_hour < 12:\n",
        "            cor = weather_json['forecasts'][0]['chanceOfRain']['T06_12']\n",
        "        elif 12 <= now_hour and now_hour < 18:\n",
        "            cor = weather_json['forecasts'][0]['chanceOfRain']['T12_18']\n",
        "        else:\n",
        "            cor = weather_json['forecasts'][0]['chanceOfRain']['T18_24']\n",
        "\n",
        "        df = json_normalize(weather_json['forecasts']) \n",
        "        df = df.iloc[:,[0,1,2,10,11,12,13]]\n",
        "    return df,cor\n",
        "try: \n",
        "    df,cor = get_data(city_code)\n",
        "    if int(cor.replace('%', ''))>50:\n",
        "        st.write(f\"\"\"\n",
        "        ### 現在降水確率 **{cor}** です。傘を持ちましょう。\n",
        "        \"\"\")\n",
        "    else:\n",
        "        st.write(f\"\"\"\n",
        "        ### 降水確率 **{cor}** です。\n",
        "        \"\"\")\n",
        "    st.subheader('天気予報')\n",
        "    st.table(df)\n",
        "except:\n",
        "    st.error(\n",
        "        \"oops! error!\"\n",
        "    )"
      ]
    },
    {
      "cell_type": "code",
      "execution_count": 3,
      "metadata": {
        "colab": {
          "base_uri": "https://localhost:8080/",
          "height": 17
        },
        "id": "wzLyYpCkIoHM",
        "outputId": "eed7443c-9170-49ab-8056-6a4b6e6b0b0f"
      },
      "outputs": [
        {
          "output_type": "display_data",
          "data": {
            "text/plain": [
              "<IPython.core.display.Javascript object>"
            ],
            "application/javascript": [
              "\n",
              "      ((filepath) => {{\n",
              "        if (!google.colab.kernel.accessAllowed) {{\n",
              "          return;\n",
              "        }}\n",
              "        google.colab.files.view(filepath);\n",
              "      }})(\"/content\")"
            ]
          },
          "metadata": {}
        },
        {
          "output_type": "display_data",
          "data": {
            "text/plain": [
              "<IPython.core.display.Javascript object>"
            ],
            "application/javascript": [
              "\n",
              "      ((filepath) => {{\n",
              "        if (!google.colab.kernel.accessAllowed) {{\n",
              "          return;\n",
              "        }}\n",
              "        google.colab.files.view(filepath);\n",
              "      }})(\"/content/app.py\")"
            ]
          },
          "metadata": {}
        }
      ],
      "source": [
        "from google.colab import files\n",
        "files.view(\"/content\")\n",
        "files.view(\"app.py\")"
      ]
    },
    {
      "cell_type": "code",
      "execution_count": null,
      "metadata": {
        "id": "UNstC8mbI9AX"
      },
      "outputs": [],
      "source": [
        "!streamlit run app.py & sleep 3 && npx localtunnel --port 8501"
      ]
    },
    {
      "cell_type": "code",
      "execution_count": null,
      "metadata": {
        "id": "FnYMXziSJN7L"
      },
      "outputs": [],
      "source": [
        ""
      ]
    }
  ],
  "metadata": {
    "colab": {
      "name": "streamlit_run_tenki.ipynb",
      "provenance": []
    },
    "kernelspec": {
      "display_name": "Python 3",
      "name": "python3"
    },
    "language_info": {
      "name": "python"
    }
  },
  "nbformat": 4,
  "nbformat_minor": 0
}